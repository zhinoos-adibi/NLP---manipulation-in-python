{
 "cells": [
  {
   "cell_type": "code",
   "execution_count": null,
   "id": "8ebff64a",
   "metadata": {},
   "outputs": [],
   "source": [
    "#Refrence is https://course.spacy.io/en/chapter1\n",
    "\n",
    "import spacy"
   ]
  },
  {
   "cell_type": "code",
   "execution_count": null,
   "id": "1a876fc7",
   "metadata": {},
   "outputs": [],
   "source": [
    "#create a blank english nlp object\n",
    "nlp = spacy.blank('en')"
   ]
  },
  {
   "cell_type": "code",
   "execution_count": null,
   "id": "e744d105",
   "metadata": {},
   "outputs": [],
   "source": [
    "# Process a text\n",
    "doc = nlp(\"This is a sentence.\")"
   ]
  },
  {
   "cell_type": "code",
   "execution_count": null,
   "id": "af0acac9",
   "metadata": {},
   "outputs": [],
   "source": [
    "# Print the document text\n",
    "print(doc.text)"
   ]
  },
  {
   "cell_type": "code",
   "execution_count": 1,
   "id": "e004754f",
   "metadata": {},
   "outputs": [],
   "source": [
    "### The Doc object"
   ]
  },
  {
   "cell_type": "code",
   "execution_count": null,
   "id": "9e53a13c",
   "metadata": {},
   "outputs": [],
   "source": [
    "# Created by processing a string of text with the nlp object\n"
   ]
  },
  {
   "cell_type": "code",
   "execution_count": null,
   "id": "ac0a92d4",
   "metadata": {},
   "outputs": [],
   "source": [
    "doc = nlp('Hello world!')\n",
    "# Iterate over tokens in a Doc\n",
    "for token in doc :\n",
    "    print(token.text)"
   ]
  },
  {
   "cell_type": "code",
   "execution_count": null,
   "id": "cea1f121",
   "metadata": {},
   "outputs": [],
   "source": [
    "# Index into the Doc to get a single Token\n",
    "token = doc[1]\n",
    "\n",
    "# Get the token text via the .text attribute\n",
    "\n",
    "print(token.text)\n"
   ]
  },
  {
   "cell_type": "code",
   "execution_count": null,
   "id": "be2b5e59",
   "metadata": {},
   "outputs": [],
   "source": [
    "# A slice from the Doc is a Span object\n",
    "span = doc[1:3]\n",
    "\n",
    "# Get the span text via the .text attribute\n",
    "print(span.text)"
   ]
  },
  {
   "cell_type": "code",
   "execution_count": null,
   "id": "a201d5b2",
   "metadata": {},
   "outputs": [],
   "source": []
  }
 ],
 "metadata": {
  "kernelspec": {
   "display_name": "Python 3",
   "language": "python",
   "name": "python3"
  },
  "language_info": {
   "codemirror_mode": {
    "name": "ipython",
    "version": 3
   },
   "file_extension": ".py",
   "mimetype": "text/x-python",
   "name": "python",
   "nbconvert_exporter": "python",
   "pygments_lexer": "ipython3",
   "version": "3.9.6"
  }
 },
 "nbformat": 4,
 "nbformat_minor": 5
}
