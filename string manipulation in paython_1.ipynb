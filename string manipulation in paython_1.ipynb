{
 "cells": [
  {
   "cell_type": "code",
   "execution_count": 15,
   "id": "be958df2",
   "metadata": {},
   "outputs": [
    {
     "data": {
      "text/plain": [
       "'chickenman'"
      ]
     },
     "execution_count": 15,
     "metadata": {},
     "output_type": "execute_result"
    }
   ],
   "source": [
    "a= 'chicken' + 'man' \n",
    "a\n"
   ]
  },
  {
   "cell_type": "code",
   "execution_count": 16,
   "id": "f76baf2b",
   "metadata": {},
   "outputs": [
    {
     "name": "stdout",
     "output_type": "stream",
     "text": [
      "True\n",
      "False\n",
      "False\n",
      "True\n"
     ]
    }
   ],
   "source": [
    "#you can check if a string is in another string\n",
    "print('hi' in a)\n",
    "print('zi' in a)\n",
    "print('HI' in a)\n",
    "print('HI'.lower() in a)"
   ]
  },
  {
   "cell_type": "code",
   "execution_count": 17,
   "id": "55f6f926",
   "metadata": {},
   "outputs": [
    {
     "name": "stdout",
     "output_type": "stream",
     "text": [
      "True\n",
      "False\n"
     ]
    }
   ],
   "source": [
    "#you can check starting and ending\n",
    "print(a.startswith('ch'))\n",
    "print(a.endswith('ch'))\n"
   ]
  },
  {
   "cell_type": "code",
   "execution_count": 18,
   "id": "0668a5b3",
   "metadata": {},
   "outputs": [
    {
     "name": "stdout",
     "output_type": "stream",
     "text": [
      "c\n"
     ]
    }
   ],
   "source": [
    "print(a[3])"
   ]
  },
  {
   "cell_type": "code",
   "execution_count": 19,
   "id": "0bd5ecd2",
   "metadata": {},
   "outputs": [
    {
     "ename": "TypeError",
     "evalue": "'str' object does not support item assignment",
     "output_type": "error",
     "traceback": [
      "\u001b[1;31m---------------------------------------------------------------------------\u001b[0m",
      "\u001b[1;31mTypeError\u001b[0m                                 Traceback (most recent call last)",
      "\u001b[1;32m<ipython-input-19-0af2f2c0419c>\u001b[0m in \u001b[0;36m<module>\u001b[1;34m\u001b[0m\n\u001b[1;32m----> 1\u001b[1;33m \u001b[0ma\u001b[0m\u001b[1;33m[\u001b[0m\u001b[1;36m3\u001b[0m\u001b[1;33m]\u001b[0m \u001b[1;33m=\u001b[0m \u001b[1;34m'x'\u001b[0m\u001b[1;33m\u001b[0m\u001b[1;33m\u001b[0m\u001b[0m\n\u001b[0m",
      "\u001b[1;31mTypeError\u001b[0m: 'str' object does not support item assignment"
     ]
    }
   ],
   "source": [
    "a[3] = 'x'"
   ]
  },
  {
   "cell_type": "code",
   "execution_count": 20,
   "id": "aa8366ae",
   "metadata": {},
   "outputs": [],
   "source": [
    "# if you want to change the part of string, use +\n",
    "new_string = a[:3]+ 'x'+a[4:]\n"
   ]
  },
  {
   "cell_type": "code",
   "execution_count": 21,
   "id": "d77f1188",
   "metadata": {},
   "outputs": [
    {
     "data": {
      "text/plain": [
       "'chixkenman'"
      ]
     },
     "execution_count": 21,
     "metadata": {},
     "output_type": "execute_result"
    }
   ],
   "source": [
    "new_string"
   ]
  },
  {
   "cell_type": "code",
   "execution_count": 25,
   "id": "7f1e773a",
   "metadata": {},
   "outputs": [
    {
     "name": "stdout",
     "output_type": "stream",
     "text": [
      "['I', 'love', 'to', 'drive', 'cars:']\n"
     ]
    }
   ],
   "source": [
    "#you can split a string based on a character\n",
    "word_list = 'I love to drive cars:'.split(' ')\n",
    "print(word_list)"
   ]
  },
  {
   "cell_type": "code",
   "execution_count": 27,
   "id": "fc4ee049",
   "metadata": {},
   "outputs": [
    {
     "name": "stdout",
     "output_type": "stream",
     "text": [
      "Hi there.\n",
      "\n",
      "Hi there.\n",
      "Next Line.\n"
     ]
    }
   ],
   "source": [
    "# you can strip off line breaks('\\n')\n",
    "return_at_end = 'Hi there.\\n'\n",
    "print(return_at_end)\n",
    "print(return_at_end.strip())\n",
    "print(\"Next Line.\")"
   ]
  },
  {
   "cell_type": "code",
   "execution_count": 29,
   "id": "019ebe33",
   "metadata": {},
   "outputs": [
    {
     "name": "stdout",
     "output_type": "stream",
     "text": [
      "zhinoos\n",
      "\n",
      "b\n",
      "zhinoos\n",
      "c\n"
     ]
    }
   ],
   "source": [
    "a= 'zhinoos\\n'\n",
    "print(a)\n",
    "print('b')\n",
    "print(a.strip())\n",
    "print('c')"
   ]
  },
  {
   "cell_type": "code",
   "execution_count": 31,
   "id": "cca57c28",
   "metadata": {},
   "outputs": [
    {
     "data": {
      "text/plain": [
       "'I enjoy tacos.'"
      ]
     },
     "execution_count": 31,
     "metadata": {},
     "output_type": "execute_result"
    }
   ],
   "source": [
    "#you can replace characters in a string\n",
    "new_string = 'I love tacos.'.replace('love' , 'enjoy')\n",
    "new_string"
   ]
  },
  {
   "cell_type": "code",
   "execution_count": 34,
   "id": "2ab5983e",
   "metadata": {},
   "outputs": [],
   "source": [
    "a= 'bob'\n",
    "b = \"tom\"\n",
    "c = '''farnk'''\n",
    "d = \"\"\"farnk \"\"\""
   ]
  },
  {
   "cell_type": "code",
   "execution_count": 35,
   "id": "2844d8b1",
   "metadata": {},
   "outputs": [
    {
     "name": "stdout",
     "output_type": "stream",
     "text": [
      "bob \n",
      "\n",
      "\n",
      "tom \n",
      "\n",
      "\n",
      "farnk \n",
      "\n",
      "\n",
      "farnk  \n",
      "\n",
      "\n"
     ]
    }
   ],
   "source": [
    "print(a,\"\\n\\n\")\n",
    "print(b,\"\\n\\n\")\n",
    "print(c,\"\\n\\n\")\n",
    "print(d,\"\\n\\n\")\n"
   ]
  },
  {
   "cell_type": "code",
   "execution_count": 1,
   "id": "4fc682c8",
   "metadata": {},
   "outputs": [
    {
     "ename": "SyntaxError",
     "evalue": "invalid syntax (<ipython-input-1-2773eb6d4ce7>, line 1)",
     "output_type": "error",
     "traceback": [
      "\u001b[1;36m  File \u001b[1;32m\"<ipython-input-1-2773eb6d4ce7>\"\u001b[1;36m, line \u001b[1;32m1\u001b[0m\n\u001b[1;33m    print('I can't belive it')\u001b[0m\n\u001b[1;37m                 ^\u001b[0m\n\u001b[1;31mSyntaxError\u001b[0m\u001b[1;31m:\u001b[0m invalid syntax\n"
     ]
    }
   ],
   "source": [
    "# in this syntax isn't true\n",
    "print('I can't belive it')"
   ]
  },
  {
   "cell_type": "code",
   "execution_count": 2,
   "id": "a7975a8c",
   "metadata": {},
   "outputs": [
    {
     "name": "stdout",
     "output_type": "stream",
     "text": [
      "I can't belive it\n"
     ]
    }
   ],
   "source": [
    "#this syntax is true\n",
    "print(\"I can't belive it\")"
   ]
  }
 ],
 "metadata": {
  "kernelspec": {
   "display_name": "Python 3",
   "language": "python",
   "name": "python3"
  },
  "language_info": {
   "codemirror_mode": {
    "name": "ipython",
    "version": 3
   },
   "file_extension": ".py",
   "mimetype": "text/x-python",
   "name": "python",
   "nbconvert_exporter": "python",
   "pygments_lexer": "ipython3",
   "version": "3.9.6"
  }
 },
 "nbformat": 4,
 "nbformat_minor": 5
}
